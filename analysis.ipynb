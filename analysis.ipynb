{
 "cells": [
  {
   "cell_type": "code",
   "execution_count": 33,
   "metadata": {},
   "outputs": [],
   "source": [
    "from oai_key import oai_key\n",
    "from openai import OpenAI\n",
    "from datetime import datetime\n",
    "import pandas as pd\n",
    "\n",
    "\n",
    "client = OpenAI(api_key=oai_key)"
   ]
  },
  {
   "cell_type": "code",
   "execution_count": 6,
   "metadata": {},
   "outputs": [
    {
     "name": "stdout",
     "output_type": "stream",
     "text": [
      "2024-06-18 00:53:44 Completed 1 requests\n",
      "2024-06-18 00:54:02 Completed 11 requests\n",
      "2024-06-18 00:54:20 Completed 21 requests\n",
      "2024-06-18 00:54:37 Completed 31 requests\n",
      "2024-06-18 00:54:58 Completed 41 requests\n",
      "2024-06-18 00:55:16 Completed 51 requests\n",
      "2024-06-18 00:55:33 Completed 61 requests\n",
      "2024-06-18 00:55:49 Completed 71 requests\n",
      "2024-06-18 00:56:05 Completed 81 requests\n",
      "2024-06-18 00:56:23 Completed 91 requests\n"
     ]
    }
   ],
   "source": [
    "responses = []\n",
    "\n",
    "for i in range(100):\n",
    "    response = client.chat.completions.create(\n",
    "      model=\"gpt-4o\",\n",
    "      messages=[\n",
    "        {\"role\": \"user\", \"content\": \"\"\"Alice has N brothers and she also has M sisters. How many sisters does Alice’s brother have?\n",
    "         Write the final answer in the format Final Answer:<answer>\"\"\"},\n",
    "      ]\n",
    "    )\n",
    "    responses.append(response)\n",
    "    if i % 10 == 0:\n",
    "        print(f\"{datetime.now().strftime('%Y-%m-%d %H:%M:%S')} Completed {i+1} requests\")"
   ]
  },
  {
   "cell_type": "code",
   "execution_count": 34,
   "metadata": {},
   "outputs": [
    {
     "name": "stdout",
     "output_type": "stream",
     "text": [
      "2024-06-18 18:45:27 Completed 1 requests\n",
      "2024-06-18 18:46:08 Completed 11 requests\n",
      "2024-06-18 18:46:56 Completed 21 requests\n",
      "2024-06-18 18:47:54 Completed 31 requests\n",
      "2024-06-18 18:48:34 Completed 41 requests\n",
      "2024-06-18 18:49:30 Completed 51 requests\n",
      "2024-06-18 18:50:19 Completed 61 requests\n",
      "2024-06-18 18:51:01 Completed 71 requests\n",
      "2024-06-18 18:51:46 Completed 81 requests\n",
      "2024-06-18 18:52:32 Completed 91 requests\n"
     ]
    }
   ],
   "source": [
    "new_responses = []\n",
    "\n",
    "for i in range(100):\n",
    "    new_response = client.chat.completions.create(\n",
    "      model=\"gpt-4o\",\n",
    "      messages=[\n",
    "        {\"role\": \"user\", \"content\": \"\"\"Here's a problem\n",
    "\n",
    "Alice has N brothers and she also has M sisters. How many sisters does Alice’s brother have?\n",
    "\n",
    "Can you add details to this problem, e.g. make assumptions about M, and N, assign names, clearly state any implicit assumptions, etc.\n",
    "Once you add details, answer the question 'How many sisters does Alice’s brother have?' and then generalize the answer in terms of M and N. Write the final answer in the format Final Answer:<answer>\"\"\"},\n",
    "      ]\n",
    "    )\n",
    "    new_responses.append(new_response)\n",
    "    if i % 10 == 0:\n",
    "        print(f\"{datetime.now().strftime('%Y-%m-%d %H:%M:%S')} Completed {i+1} requests\")"
   ]
  },
  {
   "cell_type": "code",
   "execution_count": 35,
   "metadata": {},
   "outputs": [],
   "source": [
    "df = pd.DataFrame([{ 'regular': i.choices[0].message.content, 'new_response': j.choices[0].message.content }for i, j in (zip(responses, new_responses))])"
   ]
  },
  {
   "cell_type": "code",
   "execution_count": 54,
   "metadata": {},
   "outputs": [],
   "source": [
    "# Create a DataFrame with the responses\n",
    "\n",
    "responses_df = pd.DataFrame(\n",
    "    {'prompt': [\"\"\"Alice has N brothers and she also has M sisters. How many sisters does Alice’s brother have?\n",
    "         Write the final answer in the format Final Answer:<answer>\"\"\"]* 100 + [\"\"\"Here's a problem\n",
    "\n",
    "Alice has N brothers and she also has M sisters. How many sisters does Alice’s brother have?\n",
    "\n",
    "Can you add details to this problem, e.g. make assumptions about M, and N, assign names, clearly state any implicit assumptions, etc.\n",
    "Once you add details, answer the question 'How many sisters does Alice’s brother have?' and then generalize the answer in terms of M and N. Write the final answer in the format Final Answer:<answer>\"\"\"] * 100,\n",
    "        'prompt_type': ['standard']*100 + ['expand_then_solve']*100,\n",
    "        'response': [i.choices[0].message.content for i in responses] + [j.choices[0].message.content for j in new_responses]\n",
    "    }\n",
    ")"
   ]
  },
  {
   "cell_type": "code",
   "execution_count": 60,
   "metadata": {},
   "outputs": [],
   "source": [
    "responses_df['final_answer'] = responses_df['response'].apply(lambda x: x.split('Final Answer:')[-1].strip() if len(x.split('Final Answer:')) > 1 else '')\n"
   ]
  },
  {
   "cell_type": "code",
   "execution_count": 61,
   "metadata": {},
   "outputs": [
    {
     "data": {
      "text/plain": [
       "array(['M', '\\\\( M \\\\)', '\\\\( M - 1 \\\\)', '\\\\(M\\\\)', '\\\\( M + 1 \\\\)',\n",
       "       '\\\\( \\\\text{M} \\\\)', '\\\\( M \\\\)**', '\\\\( M \\\\).', 'M + 1', '',\n",
       "       'M\\n```',\n",
       "       \"M\\n\\nCharlie, like any of Alice's brothers, would have M sisters.\\n\\nNo matter the values of N and M, the result remains the same:\\n\\n- Alice's brother has M sisters.\",\n",
       "       \"** \\\\( (M + 1) \\\\)\\n\\nThus, the number of sisters any of Alice's brothers has is \\\\( (M + 1) \\\\).\",\n",
       "       '\\\\( M + 1 \\\\)\\n\\nThis means any brother of Alice will have \\\\( M + 1 \\\\) sisters, which includes Alice and the M other sisters.',\n",
       "       '\\\\( M - 1 \\\\)\\n\\nTherefore, each of Alice’s brothers has \\\\( M - 1 \\\\) sisters.',\n",
       "       'M + 1**',\n",
       "       \"\\\\( M + 1 \\\\)**\\n\\nThis means that any of Alice's brothers would have \\\\( M + 1\\\\) sisters regardless of the number of brothers \\\\( N \\\\).\",\n",
       "       '\\\\( M \\\\sisters \\\\).',\n",
       "       '\\\\( M + 1 \\\\)\\n\\nThus, any of Alice’s brothers has \\\\( M + 1 \\\\) sisters.',\n",
       "       '\\\\(M\\\\ +\\\\ 1\\\\)',\n",
       "       \"\\\\( M + 1 \\\\) (since we must add Alice to the count of sisters Alice's brother has)\\n\\nSo, based on the problem's generalized terms, Alice's brother has \\\\(\\\\textbf{M + 1}\\\\) sisters.\",\n",
       "       '** \\\\( M \\\\)\\n\\nSo, in general terms, the number of sisters Alice’s brother has is \\\\( M \\\\).',\n",
       "       '\\\\(M + 1\\\\)', '\\\\( M + 1 \\\\)**',\n",
       "       'M\\n\\nTherefore, the number of sisters Alice’s brother has is simply \\\\( M \\\\).',\n",
       "       '\\\\( M + 1 \\\\).', '\\\\(M\\\\)**', '** \\\\( M \\\\)',\n",
       "       '\\\\(M + 1\\\\)\\n\\nSo if Alice has \\\\(N\\\\) brothers and \\\\(M\\\\) other sisters, each brother has \\\\(M + 1\\\\) sisters, including Alice.',\n",
       "       \"\\\\( M \\\\) \\n\\nThus, in general terms, any of Alice's brothers has \\\\( M \\\\) sisters.\",\n",
       "       '** M + 1\\n\\nThus, in the general case, each of Alice’s brothers has \\\\( M + 1 \\\\) sisters.',\n",
       "       '** M + 1',\n",
       "       '** \\\\( M \\\\)\\n\\nThus, the number of sisters Alice’s brother has is always \\\\(M\\\\), which includes Alice herself.',\n",
       "       '** M', 'Each of Alice’s brothers has M sisters.',\n",
       "       '\\\\( M - 1 \\\\) \\n\\nThus, each brother has \\\\( M - 1 \\\\) sisters.',\n",
       "       \"Alice's brother has M sisters.\", 'M - 1** (in general terms).'],\n",
       "      dtype=object)"
      ]
     },
     "execution_count": 61,
     "metadata": {},
     "output_type": "execute_result"
    }
   ],
   "source": [
    "responses_df['final_answer'].unique()"
   ]
  },
  {
   "cell_type": "code",
   "execution_count": null,
   "metadata": {},
   "outputs": [],
   "source": []
  },
  {
   "cell_type": "code",
   "execution_count": 36,
   "metadata": {},
   "outputs": [],
   "source": [
    "df.to_csv('data.csv', index=False)"
   ]
  },
  {
   "cell_type": "code",
   "execution_count": 37,
   "metadata": {},
   "outputs": [
    {
     "data": {
      "text/html": [
       "<div>\n",
       "<style scoped>\n",
       "    .dataframe tbody tr th:only-of-type {\n",
       "        vertical-align: middle;\n",
       "    }\n",
       "\n",
       "    .dataframe tbody tr th {\n",
       "        vertical-align: top;\n",
       "    }\n",
       "\n",
       "    .dataframe thead th {\n",
       "        text-align: right;\n",
       "    }\n",
       "</style>\n",
       "<table border=\"1\" class=\"dataframe\">\n",
       "  <thead>\n",
       "    <tr style=\"text-align: right;\">\n",
       "      <th></th>\n",
       "      <th>response</th>\n",
       "      <th>new_response</th>\n",
       "    </tr>\n",
       "  </thead>\n",
       "  <tbody>\n",
       "    <tr>\n",
       "      <th>0</th>\n",
       "      <td>To determine how many sisters Alice's brother ...</td>\n",
       "      <td>Sure, let's add some details to the problem an...</td>\n",
       "    </tr>\n",
       "    <tr>\n",
       "      <th>1</th>\n",
       "      <td>Alice has \\( M \\) sisters. Each of Alice's bro...</td>\n",
       "      <td>Certainly! Let's add some details and make nec...</td>\n",
       "    </tr>\n",
       "    <tr>\n",
       "      <th>2</th>\n",
       "      <td>To determine how many sisters Alice's brother ...</td>\n",
       "      <td>Sure! Let's add some details to better underst...</td>\n",
       "    </tr>\n",
       "    <tr>\n",
       "      <th>3</th>\n",
       "      <td>Alice has M sisters. Since both Alice and her ...</td>\n",
       "      <td>Sure, let's add some details and clarify some ...</td>\n",
       "    </tr>\n",
       "    <tr>\n",
       "      <th>4</th>\n",
       "      <td>To determine how many sisters Alice’s brother ...</td>\n",
       "      <td>Certainly! Let's add some details and assumpti...</td>\n",
       "    </tr>\n",
       "    <tr>\n",
       "      <th>...</th>\n",
       "      <td>...</td>\n",
       "      <td>...</td>\n",
       "    </tr>\n",
       "    <tr>\n",
       "      <th>95</th>\n",
       "      <td>To determine how many sisters Alice's brother ...</td>\n",
       "      <td>Sure, let's add some details to the problem.\\n...</td>\n",
       "    </tr>\n",
       "    <tr>\n",
       "      <th>96</th>\n",
       "      <td>To determine how many sisters Alice's brother ...</td>\n",
       "      <td>Let's add some details to the problem:\\n\\nLet'...</td>\n",
       "    </tr>\n",
       "    <tr>\n",
       "      <th>97</th>\n",
       "      <td>Alice has \\( M \\) sisters in total. Since Alic...</td>\n",
       "      <td>Let's explore the problem in detail by adding ...</td>\n",
       "    </tr>\n",
       "    <tr>\n",
       "      <th>98</th>\n",
       "      <td>To determine how many sisters Alice's brother ...</td>\n",
       "      <td>Alright, let's add some details to the problem...</td>\n",
       "    </tr>\n",
       "    <tr>\n",
       "      <th>99</th>\n",
       "      <td>To determine how many sisters Alice's brother ...</td>\n",
       "      <td>Sure, let's add some details to the problem to...</td>\n",
       "    </tr>\n",
       "  </tbody>\n",
       "</table>\n",
       "<p>100 rows × 2 columns</p>\n",
       "</div>"
      ],
      "text/plain": [
       "                                             response  \\\n",
       "0   To determine how many sisters Alice's brother ...   \n",
       "1   Alice has \\( M \\) sisters. Each of Alice's bro...   \n",
       "2   To determine how many sisters Alice's brother ...   \n",
       "3   Alice has M sisters. Since both Alice and her ...   \n",
       "4   To determine how many sisters Alice’s brother ...   \n",
       "..                                                ...   \n",
       "95  To determine how many sisters Alice's brother ...   \n",
       "96  To determine how many sisters Alice's brother ...   \n",
       "97  Alice has \\( M \\) sisters in total. Since Alic...   \n",
       "98  To determine how many sisters Alice's brother ...   \n",
       "99  To determine how many sisters Alice's brother ...   \n",
       "\n",
       "                                         new_response  \n",
       "0   Sure, let's add some details to the problem an...  \n",
       "1   Certainly! Let's add some details and make nec...  \n",
       "2   Sure! Let's add some details to better underst...  \n",
       "3   Sure, let's add some details and clarify some ...  \n",
       "4   Certainly! Let's add some details and assumpti...  \n",
       "..                                                ...  \n",
       "95  Sure, let's add some details to the problem.\\n...  \n",
       "96  Let's add some details to the problem:\\n\\nLet'...  \n",
       "97  Let's explore the problem in detail by adding ...  \n",
       "98  Alright, let's add some details to the problem...  \n",
       "99  Sure, let's add some details to the problem to...  \n",
       "\n",
       "[100 rows x 2 columns]"
      ]
     },
     "execution_count": 37,
     "metadata": {},
     "output_type": "execute_result"
    }
   ],
   "source": [
    "df"
   ]
  },
  {
   "cell_type": "code",
   "execution_count": 47,
   "metadata": {},
   "outputs": [
    {
     "name": "stdout",
     "output_type": "stream",
     "text": [
      "\\( M \\)\n"
     ]
    }
   ],
   "source": [
    "print(df['response'][2].split('Final Answer:')[1].strip())"
   ]
  },
  {
   "cell_type": "code",
   "execution_count": 48,
   "metadata": {},
   "outputs": [
    {
     "name": "stdout",
     "output_type": "stream",
     "text": [
      "To determine how many sisters Alice's brother has, we start by analyzing the given information:\n",
      "\n",
      "- Alice has \\( N \\) brothers.\n",
      "- Alice has \\( M \\) sisters.\n",
      "\n",
      "For the problem, we need to identify how the number of sisters relates to Alice's brother. Here are the key points:\n",
      "\n",
      "1. Alice herself is a sister.\n",
      "2. Alice's sisters are the same as her brother's sisters (since they all share the same siblings in common).\n",
      "\n",
      "Therefore, Alice's brother has the same sisters as Alice has.\n",
      "\n",
      "So, the number of sisters that Alice's brother has is exactly equal to \\( M \\).\n",
      "\n",
      "Final Answer: \\( M \\)\n"
     ]
    }
   ],
   "source": [
    "print(df['response'][2])"
   ]
  },
  {
   "cell_type": "code",
   "execution_count": null,
   "metadata": {},
   "outputs": [],
   "source": []
  }
 ],
 "metadata": {
  "kernelspec": {
   "display_name": ".venv",
   "language": "python",
   "name": "python3"
  },
  "language_info": {
   "codemirror_mode": {
    "name": "ipython",
    "version": 3
   },
   "file_extension": ".py",
   "mimetype": "text/x-python",
   "name": "python",
   "nbconvert_exporter": "python",
   "pygments_lexer": "ipython3",
   "version": "3.9.6"
  }
 },
 "nbformat": 4,
 "nbformat_minor": 2
}
