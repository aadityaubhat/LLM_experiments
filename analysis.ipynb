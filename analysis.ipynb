{
 "cells": [
  {
   "cell_type": "code",
   "execution_count": 75,
   "metadata": {},
   "outputs": [],
   "source": [
    "from oai_key import oai_key\n",
    "from openai import OpenAI\n",
    "from datetime import datetime\n",
    "import pandas as pd\n",
    "\n",
    "\n",
    "client = OpenAI(api_key=oai_key)"
   ]
  },
  {
   "cell_type": "code",
   "execution_count": 76,
   "metadata": {},
   "outputs": [
    {
     "name": "stdout",
     "output_type": "stream",
     "text": [
      "2024-06-20 23:26:49 Completed 1 requests\n",
      "2024-06-20 23:27:12 Completed 11 requests\n",
      "2024-06-20 23:27:32 Completed 21 requests\n",
      "2024-06-20 23:27:52 Completed 31 requests\n",
      "2024-06-20 23:28:15 Completed 41 requests\n",
      "2024-06-20 23:28:41 Completed 51 requests\n",
      "2024-06-20 23:29:01 Completed 61 requests\n",
      "2024-06-20 23:29:25 Completed 71 requests\n",
      "2024-06-20 23:29:49 Completed 81 requests\n",
      "2024-06-20 23:30:12 Completed 91 requests\n"
     ]
    }
   ],
   "source": [
    "responses = []\n",
    "\n",
    "for i in range(100):\n",
    "    response = client.chat.completions.create(\n",
    "      model=\"gpt-4o\",\n",
    "      messages=[\n",
    "        {\"role\": \"user\", \"content\": \"\"\"Alice has N brothers and she also has M sisters. How many sisters does Alice’s brother have?\n",
    "         Write the final answer in the format Final Answer:<answer in terms of M and/or N>\"\"\"},\n",
    "      ]\n",
    "    )\n",
    "    responses.append(response)\n",
    "    if i % 10 == 0:\n",
    "        print(f\"{datetime.now().strftime('%Y-%m-%d %H:%M:%S')} Completed {i+1} requests\")"
   ]
  },
  {
   "cell_type": "code",
   "execution_count": 77,
   "metadata": {},
   "outputs": [
    {
     "name": "stdout",
     "output_type": "stream",
     "text": [
      "2024-06-20 23:32:08 Completed 1 requests\n",
      "2024-06-20 23:32:51 Completed 11 requests\n",
      "2024-06-20 23:33:41 Completed 21 requests\n",
      "2024-06-20 23:34:33 Completed 31 requests\n",
      "2024-06-20 23:35:40 Completed 41 requests\n",
      "2024-06-20 23:36:33 Completed 51 requests\n",
      "2024-06-20 23:37:24 Completed 61 requests\n",
      "2024-06-20 23:38:26 Completed 71 requests\n",
      "2024-06-20 23:39:20 Completed 81 requests\n",
      "2024-06-20 23:40:10 Completed 91 requests\n"
     ]
    }
   ],
   "source": [
    "new_responses = []\n",
    "\n",
    "for i in range(100):\n",
    "    new_response = client.chat.completions.create(\n",
    "      model=\"gpt-4o\",\n",
    "      messages=[\n",
    "        {\"role\": \"user\", \"content\": \"\"\"Here's a problem\n",
    "\n",
    "Alice has N brothers and she also has M sisters. How many sisters does Alice’s brother have?\n",
    "\n",
    "Can you expand the problem by adding missing details to this problem, e.g. make assumptions about M, and N, assign names, clearly state any implicit assumptions, etc.\n",
    "Once you add details, answer the question 'How many sisters does Alice’s brother have?' and then generalize the answer in terms of M and N. Write the final answer in the format Final Answer:<answer in terms of M and/or N>\"\"\"},\n",
    "      ]\n",
    "    )\n",
    "    new_responses.append(new_response)\n",
    "    if i % 10 == 0:\n",
    "        print(f\"{datetime.now().strftime('%Y-%m-%d %H:%M:%S')} Completed {i+1} requests\")"
   ]
  },
  {
   "cell_type": "code",
   "execution_count": 79,
   "metadata": {},
   "outputs": [],
   "source": [
    "# Create a DataFrame with the responses\n",
    "\n",
    "responses_df = pd.DataFrame(\n",
    "    {'prompt': [\"\"\"Alice has N brothers and she also has M sisters. How many sisters does Alice’s brother have?\n",
    "         Write the final answer in the format Final Answer:<answer in terms of M and/or N>\"\"\"]* 100 + [\"\"\"Here's a problem\n",
    "\n",
    "Alice has N brothers and she also has M sisters. How many sisters does Alice’s brother have?\n",
    "\n",
    "Can you add details to this problem, e.g. make assumptions about M, and N, assign names, clearly state any implicit assumptions, etc.\n",
    "Once you add details, answer the question 'How many sisters does Alice’s brother have?' and then generalize the answer in terms of M and N. Write the final answer in the format Final Answer:<answer>\"\"\"] * 100,\n",
    "        'prompt_type': ['standard']*100 + ['expand_then_solve']*100,\n",
    "        'response': [i.choices[0].message.content for i in responses] + [j.choices[0].message.content for j in new_responses]\n",
    "    }\n",
    ")"
   ]
  },
  {
   "cell_type": "code",
   "execution_count": 80,
   "metadata": {},
   "outputs": [],
   "source": [
    "responses_df['final_answer'] = responses_df['response'].apply(lambda x: x.split('Final Answer:')[-1].strip() if len(x.split('Final Answer:')) > 1 else '')\n"
   ]
  },
  {
   "cell_type": "code",
   "execution_count": 81,
   "metadata": {},
   "outputs": [
    {
     "data": {
      "text/plain": [
       "array(['M**', '} M\\n\\\\]', '\\\\( M \\\\)', 'M', '\\\\( M + 1 \\\\)', '\\\\(M\\\\)',\n",
       "       '} M \\\\]', '** \\\\( M \\\\)', '\\\\(M + 1\\\\)**', '\\\\(M + 1\\\\)',\n",
       "       '\\\\(\\\\mathbf{M-1}\\\\)', '', '} M + 1\\n\\\\]',\n",
       "       '\\\\( M \\\\)\\n\\nHere, M represents the number of sisters Alice has. Therefore, each of Alice’s brothers also has M sisters.',\n",
       "       '\\\\(M\\\\)**', '\\\\( M \\\\)**.',\n",
       "       '\\\\(\\\\boxed{M}\\\\)\\n\\nThis means that Alice’s brother has \\\\(M\\\\) sisters.',\n",
       "       '} M + 1 \\\\)',\n",
       "       \"** \\\\(M + 1\\\\)\\n\\nHere, we generalized the answer, showing that regardless of the specific values of \\\\( N \\\\) and \\\\( M \\\\), each of Alice's brothers will always have \\\\( M + 1 \\\\) sisters.\",\n",
       "       '\\\\( \\\\mathbf{M} \\\\)',\n",
       "       'M\\n\\nThis means, irrespective of the number of brothers (N), each brother will have M sisters.',\n",
       "       '} M + 1 \\\\]',\n",
       "       '\\\\( M \\\\)\\n\\nThus, the generic form of the answer, regardless of specific values for M and N, remains the same.',\n",
       "       '\\\\(M\\\\) (substituting the values for the appropriate context).',\n",
       "       '\\\\(M\\\\).', '** \\\\( M + 1 \\\\)', '**M**', '**M + 1**',\n",
       "       '\\\\(M - 1\\\\)', '** M',\n",
       "       '\\\\(M - 1\\\\)\\n\\nThe number of sisters that Alice’s brother has is \\\\(M - 1\\\\).',\n",
       "       '\\\\( \\\\text{M} \\\\)', '\\\\( M - 1 \\\\)', '\\\\( M \\\\).', 'M + 1',\n",
       "       '**\\n\\\\[ \\\\boxed{M} \\\\]\\n\\nThis conclusion follows the understanding that Alice is included in the count of M sisters.',\n",
       "       '\\\\( M + 1 \\\\)**.',\n",
       "       \"\\\\( M + 1 \\\\)\\n\\nTherefore, if Alice's brother has any number \\\\( N \\\\) of brothers and \\\\( M \\\\) sisters, he still counts Alice among his sisters, making the number of sisters \\\\( M + 1 \\\\).\",\n",
       "       \"\\\\( M - 1 \\\\)\\n\\nIn this generalized form, irrespective of the specific names or number of brothers N, each of Alice's brothers will have \\\\( M - 1 \\\\) sisters, where M includes Alice herself.\",\n",
       "       '} M \\\\]\\n\\nThis means that each brother of Alice has \\\\( M \\\\) sisters.',\n",
       "       '\\\\( M \\\\)\\n\\nIn terms of M, the number of sisters that Alice’s brothers have is \\\\( M \\\\).',\n",
       "       \"\\\\( \\\\boxed{M} \\\\)\\n\\nSo, in general, Alice's brother has \\\\( M \\\\) sisters.\",\n",
       "       \"** \\\\( M + 1 \\\\)\\n\\nSo, the number of sisters each of Alice's brothers has is \\\\( M + 1 \\\\).\",\n",
       "       \"\\\\(M + 1\\\\)**\\n\\nSo in summary, each of Alice's brothers has \\\\(M + 1\\\\) sisters, where M is the number of sisters excluding Alice.\",\n",
       "       \"Any one of Alice's brothers has M sisters.\",\n",
       "       '**\\n\\\\[ \\\\text{Number of sisters Alice’s brother has} = \\\\text{M} - 1 \\\\]\\n\\nSo, if Alice has N brothers and M sisters, each brother has \\\\(\\\\text{M} - 1\\\\) sisters.',\n",
       "       '} M \\\\)', '\\\\( \\\\boxed{M} \\\\)', '** \\\\(M\\\\)',\n",
       "       '\\\\( M + 1 \\\\) sisters.',\n",
       "       '} M \\\\]\\n\\nSo, for any values of M and N:\\n- An Alice’s brother has M sisters.',\n",
       "       '\\\\( \\\\text{M} + 1 \\\\)\\n\\nTherefore, if Alice has N brothers and M sisters, then each of Alice’s brothers has \\\\( \\\\text{M} + 1 \\\\) sisters.',\n",
       "       '**\\n\\\\( M - 1 \\\\)',\n",
       "       \"} M + 1\\n\\\\]\\n\\nThus, Alice's brother will have \\\\( M + 1 \\\\) sisters, accounting for all the female siblings in the family including Alice herself.\",\n",
       "       '\\\\( M \\\\)\\n\\n**Therefore, the number of sisters that Alice’s brother has is \\\\( M \\\\).**'],\n",
       "      dtype=object)"
      ]
     },
     "execution_count": 81,
     "metadata": {},
     "output_type": "execute_result"
    }
   ],
   "source": [
    "responses_df['final_answer'].unique()"
   ]
  },
  {
   "cell_type": "code",
   "execution_count": 82,
   "metadata": {},
   "outputs": [],
   "source": [
    "mapping_dict = {\n",
    "    'M**': 'M',\n",
    "    '} M\\n\\\\]': 'M',\n",
    "    '\\\\( M \\\\)': 'M',\n",
    "    'M': 'M',\n",
    "    '\\\\( M + 1 \\\\)': 'M+1',\n",
    "    '\\\\(M\\\\)': 'M',\n",
    "    '} M \\\\]': 'M',\n",
    "    '** \\\\( M \\\\)': 'M',\n",
    "    '\\\\(M + 1\\\\)**': 'M+1',\n",
    "    '\\\\(M + 1\\\\)': 'M+1',\n",
    "    '\\\\(\\\\mathbf{M-1}\\\\)': 'M-1',\n",
    "    '': '',\n",
    "    '} M + 1\\n\\\\]': 'M+1',\n",
    "    \"\\\\( M \\\\)\\n\\nHere, M represents the number of sisters Alice has. Therefore, each of Alice's brothers also has M sisters.\": 'M',\n",
    "    '\\\\(M\\\\)**': 'M',\n",
    "    '\\\\( M \\\\)**.': 'M',\n",
    "    \"\\\\(\\\\boxed{M}\\\\)\\n\\nThis means that Alice's brother has \\\\(M\\\\) sisters.\": 'M',\n",
    "    '} M + 1 \\\\)': 'M+1',\n",
    "    \"** \\\\(M + 1\\\\)\\n\\nHere, we generalized the answer, showing that regardless of the specific values of \\\\( N \\\\) and \\\\( M \\\\), each of Alice's brothers will always have \\\\( M + 1 \\\\) sisters.\": 'M+1',\n",
    "    '\\\\( \\\\mathbf{M} \\\\)': 'M',\n",
    "    'M\\n\\nThis means, irrespective of the number of brothers (N), each brother will have M sisters.': 'M',\n",
    "    '} M + 1 \\\\]': 'M+1',\n",
    "    '\\\\( M \\\\)\\n\\nThus, the generic form of the answer, regardless of specific values for M and N, remains the same.': 'M',\n",
    "    '\\\\(M\\\\) (substituting the values for the appropriate context).': 'M',\n",
    "    '\\\\(M\\\\).': 'M',\n",
    "    '** \\\\( M + 1 \\\\)': 'M+1',\n",
    "    '**M**': 'M',\n",
    "    '**M + 1**': 'M+1',\n",
    "    '\\\\(M - 1\\\\)': 'M-1',\n",
    "    '** M': 'M',\n",
    "    \"\\\\(M - 1\\\\)\\n\\nThe number of sisters that Alice's brother has is \\\\(M - 1\\\\).\": 'M-1',\n",
    "    '\\\\( \\\\text{M} \\\\)': 'M',\n",
    "    '\\\\( M - 1 \\\\)': 'M-1',\n",
    "    '\\\\( M \\\\).': 'M',\n",
    "    'M + 1': 'M+1',\n",
    "    '**\\n\\\\[ \\\\boxed{M} \\\\]\\n\\nThis conclusion follows the understanding that Alice is included in the count of M sisters.': 'M',\n",
    "    '\\\\( M + 1 \\\\)**.': 'M+1',\n",
    "    \"\\\\( M + 1 \\\\)\\n\\nTherefore, if Alice's brother has any number \\\\( N \\\\) of brothers and \\\\( M \\\\) sisters, he still counts Alice among his sisters, making the number of sisters \\\\( M + 1 \\\\).\": 'M+1',\n",
    "    \"\\\\( M - 1 \\\\)\\n\\nIn this generalized form, irrespective of the specific names or number of brothers N, each of Alice's brothers will have \\\\( M - 1 \\\\) sisters, where M includes Alice herself.\": 'M-1',\n",
    "    '} M \\\\]\\n\\nThis means that each brother of Alice has \\\\( M \\\\) sisters.': 'M',\n",
    "    \"\\\\( M \\\\)\\n\\nIn terms of M, the number of sisters that Alice's brothers have is \\\\( M \\\\).\": 'M',\n",
    "    \"\\\\( \\\\boxed{M} \\\\)\\n\\nSo, in general, Alice's brother has \\\\( M \\\\) sisters.\": 'M',\n",
    "    \"** \\\\( M + 1 \\\\)\\n\\nSo, the number of sisters each of Alice's brothers has is \\\\( M + 1 \\\\).\": 'M+1',\n",
    "    \"\\\\(M + 1\\\\)**\\n\\nSo in summary, each of Alice's brothers has \\\\(M + 1\\\\) sisters, where M is the number of sisters excluding Alice.\": 'M+1',\n",
    "    \"Any one of Alice's brothers has M sisters.\": 'M',\n",
    "    \"**\\n\\\\[ \\\\text{Number of sisters Alice's brother has} = \\\\text{M} - 1 \\\\]\\n\\nSo, if Alice has N brothers and M sisters, each brother has \\\\(\\\\text{M} - 1\\\\) sisters.\": 'M-1',\n",
    "    '} M \\\\)': 'M',\n",
    "    '\\\\( \\\\boxed{M} \\\\)': 'M',\n",
    "    '** \\\\(M\\\\)': 'M',\n",
    "    '\\\\( M + 1 \\\\) sisters.': 'M+1',\n",
    "    \"} M \\\\]\\n\\nSo, for any values of M and N:\\n- An Alice's brother has M sisters.\": 'M',\n",
    "    \"\\\\( \\\\text{M} + 1 \\\\)\\n\\nTherefore, if Alice has N brothers and M sisters, then each of Alice's brothers has \\\\( \\\\text{M} + 1 \\\\) sisters.\": 'M+1',\n",
    "    '**\\n\\\\( M - 1 \\\\)': 'M-1',\n",
    "    \"} M + 1\\n\\\\]\\n\\nThus, Alice's brother will have \\\\( M + 1 \\\\) sisters, accounting for all the female siblings in the family including Alice herself.\": 'M+1',\n",
    "    \"\\\\( M \\\\)\\n\\n**Therefore, the number of sisters that Alice's brother has is \\\\( M \\\\).**\": 'M'\n",
    "}"
   ]
  },
  {
   "cell_type": "code",
   "execution_count": 83,
   "metadata": {},
   "outputs": [],
   "source": [
    "responses_df['clean_answer'] = responses_df['final_answer'].map(mapping_dict)\n",
    "responses_df['is_correct'] = responses_df['clean_answer'] == 'M+1'"
   ]
  },
  {
   "cell_type": "code",
   "execution_count": 84,
   "metadata": {},
   "outputs": [
    {
     "data": {
      "text/plain": [
       "prompt_type\n",
       "expand_then_solve    28\n",
       "standard             12\n",
       "Name: is_correct, dtype: int64"
      ]
     },
     "execution_count": 84,
     "metadata": {},
     "output_type": "execute_result"
    }
   ],
   "source": [
    "responses_df.groupby('prompt_type')['is_correct'].sum()"
   ]
  },
  {
   "cell_type": "code",
   "execution_count": 85,
   "metadata": {},
   "outputs": [],
   "source": [
    "responses_df.to_csv('data.csv', index=False)"
   ]
  },
  {
   "cell_type": "code",
   "execution_count": 48,
   "metadata": {},
   "outputs": [
    {
     "name": "stdout",
     "output_type": "stream",
     "text": [
      "To determine how many sisters Alice's brother has, we start by analyzing the given information:\n",
      "\n",
      "- Alice has \\( N \\) brothers.\n",
      "- Alice has \\( M \\) sisters.\n",
      "\n",
      "For the problem, we need to identify how the number of sisters relates to Alice's brother. Here are the key points:\n",
      "\n",
      "1. Alice herself is a sister.\n",
      "2. Alice's sisters are the same as her brother's sisters (since they all share the same siblings in common).\n",
      "\n",
      "Therefore, Alice's brother has the same sisters as Alice has.\n",
      "\n",
      "So, the number of sisters that Alice's brother has is exactly equal to \\( M \\).\n",
      "\n",
      "Final Answer: \\( M \\)\n"
     ]
    }
   ],
   "source": []
  },
  {
   "cell_type": "code",
   "execution_count": null,
   "metadata": {},
   "outputs": [],
   "source": []
  }
 ],
 "metadata": {
  "kernelspec": {
   "display_name": ".venv",
   "language": "python",
   "name": "python3"
  },
  "language_info": {
   "codemirror_mode": {
    "name": "ipython",
    "version": 3
   },
   "file_extension": ".py",
   "mimetype": "text/x-python",
   "name": "python",
   "nbconvert_exporter": "python",
   "pygments_lexer": "ipython3",
   "version": "3.9.6"
  }
 },
 "nbformat": 4,
 "nbformat_minor": 2
}
