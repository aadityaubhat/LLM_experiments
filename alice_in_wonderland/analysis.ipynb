{
 "cells": [
  {
   "cell_type": "code",
   "execution_count": 75,
   "metadata": {},
   "outputs": [],
   "source": [
    "from oai_key import oai_key\n",
    "from openai import OpenAI\n",
    "from datetime import datetime\n",
    "import pandas as pd\n",
    "\n",
    "\n",
    "client = OpenAI(api_key=oai_key)"
   ]
  },
  {
   "cell_type": "code",
   "execution_count": 76,
   "metadata": {},
   "outputs": [
    {
     "name": "stdout",
     "output_type": "stream",
     "text": [
      "2024-06-20 23:26:49 Completed 1 requests\n",
      "2024-06-20 23:27:12 Completed 11 requests\n",
      "2024-06-20 23:27:32 Completed 21 requests\n",
      "2024-06-20 23:27:52 Completed 31 requests\n",
      "2024-06-20 23:28:15 Completed 41 requests\n",
      "2024-06-20 23:28:41 Completed 51 requests\n",
      "2024-06-20 23:29:01 Completed 61 requests\n",
      "2024-06-20 23:29:25 Completed 71 requests\n",
      "2024-06-20 23:29:49 Completed 81 requests\n",
      "2024-06-20 23:30:12 Completed 91 requests\n"
     ]
    }
   ],
   "source": [
    "responses = []\n",
    "\n",
    "for i in range(100):\n",
    "    response = client.chat.completions.create(\n",
    "      model=\"gpt-4o\",\n",
    "      messages=[\n",
    "        {\"role\": \"user\", \"content\": \"\"\"Alice has N brothers and she also has M sisters. How many sisters does Alice’s brother have?\n",
    "         Write the final answer in the format Final Answer:<answer in terms of M and/or N>\"\"\"},\n",
    "      ]\n",
    "    )\n",
    "    responses.append(response)\n",
    "    if i % 10 == 0:\n",
    "        print(f\"{datetime.now().strftime('%Y-%m-%d %H:%M:%S')} Completed {i+1} requests\")"
   ]
  },
  {
   "cell_type": "code",
   "execution_count": 87,
   "metadata": {},
   "outputs": [
    {
     "name": "stdout",
     "output_type": "stream",
     "text": [
      "2024-06-23 15:51:33 Completed 1 requests\n",
      "2024-06-23 15:51:58 Completed 11 requests\n",
      "2024-06-23 15:52:23 Completed 21 requests\n",
      "2024-06-23 15:52:49 Completed 31 requests\n",
      "2024-06-23 15:53:13 Completed 41 requests\n",
      "2024-06-23 15:53:39 Completed 51 requests\n",
      "2024-06-23 15:54:02 Completed 61 requests\n",
      "2024-06-23 15:54:25 Completed 71 requests\n",
      "2024-06-23 15:54:54 Completed 81 requests\n",
      "2024-06-23 15:55:22 Completed 91 requests\n"
     ]
    }
   ],
   "source": [
    "cot_responses = []\n",
    "\n",
    "for i in range(100):\n",
    "    cot_response = client.chat.completions.create(\n",
    "      model=\"gpt-4o\",\n",
    "      messages=[\n",
    "        {\"role\": \"user\", \"content\": \"\"\"Think step by step, and solve the following problem:\n",
    "\n",
    "Alice has N brothers and she also has M sisters. How many sisters does Alice’s brother have?\n",
    "\n",
    "Write the final answer in the format Final Answer:<answer in terms of M and/or N>\"\"\"},\n",
    "      ]\n",
    "    )\n",
    "    cot_responses.append(cot_response)\n",
    "    if i % 10 == 0:\n",
    "        print(f\"{datetime.now().strftime('%Y-%m-%d %H:%M:%S')} Completed {i+1} requests\")"
   ]
  },
  {
   "cell_type": "code",
   "execution_count": 86,
   "metadata": {},
   "outputs": [
    {
     "name": "stdout",
     "output_type": "stream",
     "text": [
      "2024-06-21 00:17:00 Completed 1 requests\n",
      "2024-06-21 00:17:44 Completed 11 requests\n",
      "2024-06-21 00:18:27 Completed 21 requests\n",
      "2024-06-21 00:19:04 Completed 31 requests\n",
      "2024-06-21 00:19:49 Completed 41 requests\n",
      "2024-06-21 00:20:29 Completed 51 requests\n",
      "2024-06-21 00:21:17 Completed 61 requests\n",
      "2024-06-21 00:21:51 Completed 71 requests\n",
      "2024-06-21 00:22:31 Completed 81 requests\n",
      "2024-06-21 00:23:14 Completed 91 requests\n"
     ]
    }
   ],
   "source": [
    "new_responses = []\n",
    "\n",
    "for i in range(100):\n",
    "    new_response = client.chat.completions.create(\n",
    "      model=\"gpt-4o\",\n",
    "      messages=[\n",
    "        {\"role\": \"user\", \"content\": \"\"\"Expand the following problem by adding clear details, e.g. make assumptions about M, and N, assign names, etc.\n",
    "\n",
    "Alice has N brothers and she also has M sisters. How many sisters does Alice’s brother have?\n",
    "\n",
    "\n",
    "Answer the expanded problem.\n",
    "Finally generalize the answer in terms of M and N. Write the final answer in the format Final Answer:<answer in terms of M and/or N>\"\"\"},\n",
    "      ]\n",
    "    )\n",
    "    new_responses.append(new_response)\n",
    "    if i % 10 == 0:\n",
    "        print(f\"{datetime.now().strftime('%Y-%m-%d %H:%M:%S')} Completed {i+1} requests\")"
   ]
  },
  {
   "cell_type": "code",
   "execution_count": 94,
   "metadata": {},
   "outputs": [],
   "source": [
    "# Create a DataFrame with the responses\n",
    "\n",
    "responses_df = pd.DataFrame(\n",
    "    {'prompt': [\"\"\"Alice has N brothers and she also has M sisters. How many sisters does Alice’s brother have?\n",
    "         Write the final answer in the format Final Answer:<answer in terms of M and/or N>\"\"\"]* 100  + [\n",
    "        \"\"\"Think step by step, and solve the following problem:\n",
    "\n",
    "Alice has N brothers and she also has M sisters. How many sisters does Alice’s brother have?\n",
    "\n",
    "Write the final answer in the format Final Answer:<answer in terms of M and/or N>\"\"\"] * 100 + [\"\"\"Expand the following problem by adding clear details, e.g. make assumptions about M, and N, assign names, etc.\n",
    "\n",
    "Alice has N brothers and she also has M sisters. How many sisters does Alice’s brother have?\n",
    "\n",
    "\n",
    "Answer the expanded problem.\n",
    "Finally generalize the answer in terms of M and N. Write the final answer in the format Final Answer:<answer in terms of M and/or N>\"\"\"] * 100, \n",
    "        'prompt_type': ['standard']*100 + ['cot']*100 + ['expand_then_solve']*100,\n",
    "        'response': [i.choices[0].message.content for i in responses] + [i.choices[0].message.content for i in cot_responses] + [i.choices[0].message.content for i in new_responses]\n",
    "    }\n",
    ")"
   ]
  },
  {
   "cell_type": "code",
   "execution_count": 95,
   "metadata": {},
   "outputs": [],
   "source": [
    "responses_df['final_answer'] = responses_df['response'].apply(lambda x: x.split('Final Answer:')[-1].strip() if len(x.split('Final Answer:')) > 1 else '')\n"
   ]
  },
  {
   "cell_type": "code",
   "execution_count": 96,
   "metadata": {},
   "outputs": [
    {
     "data": {
      "text/plain": [
       "array(['M**', '} M\\n\\\\]', '\\\\( M \\\\)', 'M', '\\\\( M + 1 \\\\)', '\\\\(M\\\\)',\n",
       "       '} M \\\\]', '** \\\\( M \\\\)', '\\\\(M + 1\\\\)**', '\\\\(M + 1\\\\)',\n",
       "       '\\\\(\\\\mathbf{M-1}\\\\)', '', '\\\\( M \\\\)**.', '\\\\( \\\\boxed{M} \\\\)',\n",
       "       '\\\\( M \\\\)**', 'M + 1**', '\\\\( M - 1 \\\\)**',\n",
       "       '** \\\\( \\\\text{M} \\\\)', '** \\\\( \\\\text{M + 1} \\\\)',\n",
       "       '\\\\(M - 1\\\\)**', '\\\\( \\\\text{M} \\\\)', '\\\\( \\\\text{M} \\\\)**',\n",
       "       '** M', 'M + 1', '} M \\\\)', '** \\\\( M + 1 \\\\)', '** \\\\(M + 1\\\\)',\n",
       "       '**\\n\\n\\\\( \\\\mathbf{M - 1} \\\\)', '**\\n\\\\( M \\\\)', 'M - 1',\n",
       "       \"\\\\( M \\\\)\\n\\nThis means, regardless of the specific values of N (which measures the number of brothers), each of Alice's brothers will always have \\\\( M \\\\) sisters.\",\n",
       "       '\\\\[ \\\\boxed{M} \\\\]**\\n\\nHence, the number of sisters that Alice’s brother has is \\\\( M \\\\).',\n",
       "       '\\\\(M-1\\\\)',\n",
       "       '\\\\( M \\\\)\\n\\nSo, a brother of Alice has \\\\( M \\\\) sisters.',\n",
       "       '\\\\( M \\\\)\\n\\nBob, or any of Alice’s brothers, will have \\\\(M\\\\) sisters.',\n",
       "       \"**M + 1**\\n\\nWhere:\\n- \\\\(M\\\\) is the number of Alice's sisters excluding herself.\",\n",
       "       '\\\\((M + 1)\\\\)', '\\\\( M + 1 \\\\)**',\n",
       "       '** \\\\( M + 1 \\\\)\\n\\nEach of Alice’s brothers has \\\\( M + 1 \\\\) sisters.',\n",
       "       \"The number of sisters any of Alice's brothers has is M.\", 'N + 1',\n",
       "       '\\\\( M \\\\)\\n\\n### Example Calculation Check:\\n\\nIf N = 4 and M = 3:\\n- Alice has 4 brothers and 3 sisters.\\n- Jack, one of the 4 brothers, would have \\\\( M = 3 \\\\) sisters.\\n\\nTherefore, the generalized answer \\\\( M \\\\) confirms that every brother in the family has \\\\( M \\\\) sisters.',\n",
       "       '\\\\( \\\\text{M} + 1 \\\\)',\n",
       "       \"} M \\\\)\\n\\nThat is, Alice's brother has \\\\( M \\\\) sisters.\",\n",
       "       '** \\\\(M\\\\)',\n",
       "       \"} M \\\\]\\n\\nThis tells us that any of Alice's brothers would have \\\\( M \\\\) sisters.\",\n",
       "       '} M + 1 \\\\)', '** M + 1.', '** M + 1', '\\\\(M\\\\)**', '} M + 1 \\\\]',\n",
       "       '\\\\( M - 1 \\\\)'], dtype=object)"
      ]
     },
     "execution_count": 96,
     "metadata": {},
     "output_type": "execute_result"
    }
   ],
   "source": [
    "responses_df['final_answer'].unique()"
   ]
  },
  {
   "cell_type": "code",
   "execution_count": 97,
   "metadata": {},
   "outputs": [],
   "source": [
    "mapping_dict = {\n",
    "    'M**': 'M',\n",
    "    '} M\\n\\\\]': 'M',\n",
    "    '\\\\( M \\\\)': 'M',\n",
    "    'M': 'M',\n",
    "    '\\\\( M + 1 \\\\)': 'M+1',\n",
    "    '\\\\(M\\\\)': 'M',\n",
    "    '} M \\\\]': 'M',\n",
    "    '** \\\\( M \\\\)': 'M',\n",
    "    '\\\\(M + 1\\\\)**': 'M+1',\n",
    "    '\\\\(M + 1\\\\)': 'M+1',\n",
    "    '\\\\(\\\\mathbf{M-1}\\\\)': 'M-1',\n",
    "    '': '',\n",
    "    '\\\\( M \\\\)**.': 'M',\n",
    "    '\\\\( \\\\boxed{M} \\\\)': 'M',\n",
    "    '\\\\( M \\\\)**': 'M',\n",
    "    'M + 1**': 'M+1',\n",
    "    '\\\\( M - 1 \\\\)**': 'M-1',\n",
    "    '** \\\\( \\\\text{M} \\\\)': 'M',\n",
    "    '** \\\\( \\\\text{M + 1} \\\\)': 'M+1',\n",
    "    '\\\\(M - 1\\\\)**': 'M-1',\n",
    "    '\\\\( \\\\text{M} \\\\)': 'M',\n",
    "    '\\\\( \\\\text{M} \\\\)**': 'M',\n",
    "    '** M': 'M',\n",
    "    'M + 1': 'M+1',\n",
    "    '} M \\\\)': 'M',\n",
    "    '** \\\\( M + 1 \\\\)': 'M+1',\n",
    "    '** \\\\(M + 1\\\\)': 'M+1',\n",
    "    '**\\n\\n\\\\( \\\\mathbf{M - 1} \\\\)': 'M-1',\n",
    "    '**\\n\\\\( M \\\\)': 'M',\n",
    "    'M - 1': 'M-1',\n",
    "    \"\\\\( M \\\\)\\n\\nThis means, regardless of the specific values of N (which measures the number of brothers), each of Alice's brothers will always have \\\\( M \\\\) sisters.\": 'M',\n",
    "    \"\\\\[ \\\\boxed{M} \\\\]**\\n\\nHence, the number of sisters that Alice's brother has is \\\\( M \\\\).\": 'M',\n",
    "    '\\\\(M-1\\\\)': 'M-1',\n",
    "    '\\\\( M \\\\)\\n\\nSo, a brother of Alice has \\\\( M \\\\) sisters.': 'M',\n",
    "    \"\\\\( M \\\\)\\n\\nBob, or any of Alice's brothers, will have \\\\(M\\\\) sisters.\": 'M',\n",
    "    \"**M + 1**\\n\\nWhere:\\n- \\\\(M\\\\) is the number of Alice's sisters excluding herself.\": 'M+1',\n",
    "    '\\\\((M + 1)\\\\)': 'M+1',\n",
    "    '\\\\( M + 1 \\\\)**': 'M+1',\n",
    "    \"** \\\\( M + 1 \\\\)\\n\\nEach of Alice's brothers has \\\\( M + 1 \\\\) sisters.\": 'M+1',\n",
    "    \"The number of sisters any of Alice's brothers has is M.\": 'M',\n",
    "    'N + 1': '',\n",
    "    '\\\\( M \\\\)\\n\\n### Example Calculation Check:\\n\\nIf N = 4 and M = 3:\\n- Alice has 4 brothers and 3 sisters.\\n- Jack, one of the 4 brothers, would have \\\\( M = 3 \\\\) sisters.\\n\\nTherefore, the generalized answer \\\\( M \\\\) confirms that every brother in the family has \\\\( M \\\\) sisters.': 'M',\n",
    "    '\\\\( \\\\text{M} + 1 \\\\)': 'M+1',\n",
    "    \"} M \\\\)\\n\\nThat is, Alice's brother has \\\\( M \\\\) sisters.\": 'M',\n",
    "    '** \\\\(M\\\\)': 'M',\n",
    "    \"} M \\\\]\\n\\nThis tells us that any of Alice's brothers would have \\\\( M \\\\) sisters.\": 'M',\n",
    "    '} M + 1 \\\\)': 'M+1',\n",
    "    '** M + 1.': 'M+1',\n",
    "    '** M + 1': 'M+1',\n",
    "    '\\\\(M\\\\)**': 'M',\n",
    "    '} M + 1 \\\\]': 'M+1',\n",
    "    '\\\\( M - 1 \\\\)': 'M-1'\n",
    "}"
   ]
  },
  {
   "cell_type": "code",
   "execution_count": 98,
   "metadata": {},
   "outputs": [],
   "source": [
    "responses_df['clean_answer'] = responses_df['final_answer'].map(mapping_dict)\n",
    "responses_df['is_correct'] = responses_df['clean_answer'] == 'M+1'"
   ]
  },
  {
   "cell_type": "code",
   "execution_count": 99,
   "metadata": {},
   "outputs": [
    {
     "data": {
      "text/plain": [
       "prompt_type\n",
       "cot                  16\n",
       "expand_then_solve    44\n",
       "standard             12\n",
       "Name: is_correct, dtype: int64"
      ]
     },
     "execution_count": 99,
     "metadata": {},
     "output_type": "execute_result"
    }
   ],
   "source": [
    "responses_df.groupby('prompt_type')['is_correct'].sum()"
   ]
  },
  {
   "cell_type": "code",
   "execution_count": 100,
   "metadata": {},
   "outputs": [],
   "source": [
    "responses_df.to_csv('data.csv', index=False)"
   ]
  },
  {
   "cell_type": "code",
   "execution_count": 101,
   "metadata": {},
   "outputs": [
    {
     "data": {
      "text/plain": [
       "Index(['prompt', 'prompt_type', 'response', 'final_answer', 'clean_answer',\n",
       "       'is_correct'],\n",
       "      dtype='object')"
      ]
     },
     "execution_count": 101,
     "metadata": {},
     "output_type": "execute_result"
    }
   ],
   "source": [
    "# Analysis"
   ]
  },
  {
   "cell_type": "code",
   "execution_count": 108,
   "metadata": {},
   "outputs": [],
   "source": [
    "from scipy.stats import fisher_exact\n",
    "from itertools import combinations\n",
    "import numpy as np"
   ]
  },
  {
   "cell_type": "code",
   "execution_count": 105,
   "metadata": {},
   "outputs": [
    {
     "data": {
      "text/plain": [
       "prompt_type\n",
       "cot                  0.16\n",
       "expand_then_solve    0.44\n",
       "standard             0.12\n",
       "Name: is_correct, dtype: float64"
      ]
     },
     "execution_count": 105,
     "metadata": {},
     "output_type": "execute_result"
    }
   ],
   "source": [
    "success_rates = responses_df.groupby('prompt_type')['is_correct'].mean()\n",
    "success_rates"
   ]
  },
  {
   "cell_type": "code",
   "execution_count": 107,
   "metadata": {},
   "outputs": [
    {
     "name": "stdout",
     "output_type": "stream",
     "text": [
      "Chi2: 33.333333333333336, p-value: 5.7777485194191284e-08, dof: 2, expected: [[76. 24.]\n",
      " [76. 24.]\n",
      " [76. 24.]]\n"
     ]
    }
   ],
   "source": [
    "from scipy.stats import chi2_contingency\n",
    "\n",
    "contingency_table = pd.crosstab(responses_df['prompt_type'], responses_df['is_correct'])\n",
    "chi2, p_value, dof, expected = chi2_contingency(contingency_table)\n",
    "\n",
    "print(f\"Chi2: {chi2}, p-value: {p_value}, dof: {dof}, expected: {expected}\")"
   ]
  },
  {
   "cell_type": "code",
   "execution_count": 104,
   "metadata": {},
   "outputs": [
    {
     "name": "stdout",
     "output_type": "stream",
     "text": [
      "P-value for standard vs cot: 0.5415826155366932\n",
      "P-value for standard vs expand_then_solve: 6.206889306288039e-07\n",
      "P-value for cot vs expand_then_solve: 2.442553201706847e-05\n"
     ]
    }
   ],
   "source": [
    "def pairwise_comparison(df, prompt1, prompt2):\n",
    "    contingency = pd.crosstab(df[df['prompt_type'].isin([prompt1, prompt2])]['prompt_type'], \n",
    "                              df[df['prompt_type'].isin([prompt1, prompt2])]['is_correct'])\n",
    "    odds_ratio, p_value = fisher_exact(contingency)\n",
    "    return p_value\n",
    "\n",
    "prompt_types = responses_df['prompt_type'].unique()\n",
    "for combo in combinations(prompt_types, 2):\n",
    "    p_value = pairwise_comparison(responses_df, combo[0], combo[1])\n",
    "    print(f\"P-value for {combo[0]} vs {combo[1]}: {p_value}\")"
   ]
  },
  {
   "cell_type": "code",
   "execution_count": 109,
   "metadata": {},
   "outputs": [
    {
     "data": {
      "text/plain": [
       "np.float64(0.33333333333333337)"
      ]
     },
     "execution_count": 109,
     "metadata": {},
     "output_type": "execute_result"
    }
   ],
   "source": [
    "def cramers_v(contingency_table):\n",
    "    chi2 = chi2_contingency(contingency_table)[0]\n",
    "    n = contingency_table.sum().sum()\n",
    "    return np.sqrt(chi2 / (n * (min(contingency_table.shape) - 1)))\n",
    "\n",
    "effect_size = cramers_v(contingency_table)\n",
    "effect_size"
   ]
  },
  {
   "cell_type": "code",
   "execution_count": 111,
   "metadata": {},
   "outputs": [
    {
     "name": "stdout",
     "output_type": "stream",
     "text": [
      "standard: Success Rate = 0.1200, CI [0.0563, 0.1837]\n",
      "cot: Success Rate = 0.1600, CI [0.0881, 0.2319]\n",
      "expand_then_solve: Success Rate = 0.4400, CI [0.3427, 0.5373]\n"
     ]
    }
   ],
   "source": [
    "import numpy as np\n",
    "from scipy import stats\n",
    "\n",
    "def calculate_ci(successes, total, confidence=0.95):\n",
    "    p = successes / total\n",
    "    se = np.sqrt(p * (1 - p) / total)\n",
    "    h = se * stats.norm.ppf((1 + confidence) / 2)\n",
    "    return p - h, p + h\n",
    "\n",
    "prompt_types = responses_df['prompt_type'].unique()\n",
    "for prompt in prompt_types:\n",
    "    successes = responses_df[responses_df['prompt_type'] == prompt]['is_correct'].sum()\n",
    "    total = len(responses_df[responses_df['prompt_type'] == prompt])\n",
    "    ci_low, ci_high = calculate_ci(successes, total)\n",
    "    print(f\"{prompt}: Success Rate = {successes/total:.4f}, CI [{ci_low:.4f}, {ci_high:.4f}]\")"
   ]
  },
  {
   "cell_type": "code",
   "execution_count": 113,
   "metadata": {},
   "outputs": [
    {
     "name": "stderr",
     "output_type": "stream",
     "text": [
      "/var/folders/x9/mjq6rpzd4kscf7y__wj5qk580000gn/T/ipykernel_60743/1496453799.py:31: UserWarning: set_ticklabels() should only be used with a fixed number of ticks, i.e. after set_ticks() or using a FixedLocator.\n",
      "  ax.set_xticklabels(success_rates.index, rotation=0, ha='center')\n"
     ]
    },
    {
     "data": {
      "image/png": "[encoded data removed]",
      "text/plain": [
       "<Figure size 1200x700 with 1 Axes>"
      ]
     },
     "metadata": {},
     "output_type": "display_data"
    }
   ],
   "source": [
    "import matplotlib.pyplot as plt\n",
    "import seaborn as sns\n",
    "import numpy as np\n",
    "\n",
    "# Set the style for a more modern look\n",
    "sns.set_style(\"whitegrid\")\n",
    "plt.rcParams['font.sans-serif'] = ['Arial']\n",
    "plt.rcParams['font.family'] = 'sans-serif'\n",
    "\n",
    "# Create the figure and axis objects\n",
    "fig, ax = plt.subplots(figsize=(12, 7))\n",
    "\n",
    "# Plot the bars\n",
    "bars = ax.bar(success_rates.index, success_rates.values, \n",
    "              color=sns.color_palette(\"husl\", 3),\n",
    "              edgecolor='black', linewidth=1.5)\n",
    "\n",
    "# Add error bars\n",
    "error = success_rates * (1 - success_rates) / np.sqrt(100)\n",
    "ax.errorbar(success_rates.index, success_rates.values, yerr=error, \n",
    "            fmt='none', ecolor='black', capsize=5, capthick=2, elinewidth=2)\n",
    "\n",
    "# Customize the plot\n",
    "ax.set_title('Success Rates by Prompt Type', fontsize=20, fontweight='bold', pad=20)\n",
    "ax.set_ylabel('Success Rate', fontsize=16, fontweight='bold')\n",
    "ax.set_ylim(0, 1)\n",
    "ax.yaxis.set_major_formatter(plt.FuncFormatter(lambda y, _: '{:.0%}'.format(y)))\n",
    "\n",
    "# Customize the tick labels\n",
    "ax.tick_params(axis='both', which='major', labelsize=12)\n",
    "ax.set_xticklabels(success_rates.index, rotation=0, ha='center')\n",
    "\n",
    "# Add value labels on top of each bar\n",
    "for bar in bars:\n",
    "    height = bar.get_height()\n",
    "    ax.text(bar.get_x() + bar.get_width()/2., height,\n",
    "            f'{height:.1%}',\n",
    "            ha='center', va='bottom', fontsize=12, fontweight='bold')\n",
    "\n",
    "# Add a subtle grid on the y-axis only\n",
    "ax.yaxis.grid(True, linestyle='--', alpha=0.7)\n",
    "ax.set_axisbelow(True)\n",
    "\n",
    "# Remove top and right spines\n",
    "ax.spines['top'].set_visible(False)\n",
    "ax.spines['right'].set_visible(False)\n",
    "\n",
    "# Adjust layout and display the plot\n",
    "plt.tight_layout()\n",
    "plt.show()"
   ]
  },
  {
   "cell_type": "code",
   "execution_count": null,
   "metadata": {},
   "outputs": [],
   "source": []
  }
 ],
 "metadata": {
  "kernelspec": {
   "display_name": ".venv",
   "language": "python",
   "name": "python3"
  },
  "language_info": {
   "codemirror_mode": {
    "name": "ipython",
    "version": 3
   },
   "file_extension": ".py",
   "mimetype": "text/x-python",
   "name": "python",
   "nbconvert_exporter": "python",
   "pygments_lexer": "ipython3",
   "version": "3.9.6"
  }
 },
 "nbformat": 4,
 "nbformat_minor": 2
}
